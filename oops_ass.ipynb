{
  "nbformat": 4,
  "nbformat_minor": 0,
  "metadata": {
    "colab": {
      "provenance": []
    },
    "kernelspec": {
      "name": "python3",
      "display_name": "Python 3"
    },
    "language_info": {
      "name": "python"
    }
  },
  "cells": [
    {
      "cell_type": "markdown",
      "source": [
        "#Q1. Write a Python program to demonstrate multiple inheritance.\n",
        "1. Employee class has 3 data members EmployeeID, Gender (String), Salary and\n",
        "PerformanceRating(Out of 5) of type int. It has a get() function to get these details from\n",
        "the user.\n",
        "\n"
      ],
      "metadata": {
        "id": "uSg7xFeAiNp7"
      }
    },
    {
      "cell_type": "code",
      "execution_count": null,
      "metadata": {
        "id": "YC9mpDGuhtZ7"
      },
      "outputs": [],
      "source": [
        "# Employee class (Parent class)\n",
        "\n",
        "class Employee:\n",
        "  def __init__(self,emp_id,gender,salary,per_rating):\n",
        "    self.emp_id=emp_id\n",
        "    self.gender=gender\n",
        "    self.salary=salary\n",
        "    self.per_rating=per_rating\n",
        "\n",
        "  def show(self):\n",
        "    self.emp_id = int(input(\"Enter Employee ID: \"))\n",
        "    self.gender = str(input(\"Enter Gender (Male/Female/Other): \"))\n",
        "    self.salary = float(input(\"Enter Salary: \"))\n",
        "    self.per_rating = int(input(\"Enter Performance Rating (Out of 5): \"))\n",
        "\n",
        "    # The while loop is now inside the show method\n",
        "    while self.per_rating < 1 or self.per_rating > 5:\n",
        "        print(\"Performance Rating must be between 1 and 5.\")\n",
        "        self.per_rating = int(input(\"Enter Performance Rating (Out of 5): \"))\n"
      ]
    },
    {
      "cell_type": "code",
      "source": [
        "employee.show()"
      ],
      "metadata": {
        "colab": {
          "base_uri": "https://localhost:8080/"
        },
        "id": "ai18VfxikeKD",
        "outputId": "e2a73aa1-00c3-45a3-ce0d-812cf76995cd"
      },
      "execution_count": null,
      "outputs": [
        {
          "name": "stdout",
          "output_type": "stream",
          "text": [
            "Enter Employee ID: 1\n",
            "Enter Gender (Male/Female/Other): male\n",
            "Enter Salary: 20000\n",
            "Enter Performance Rating (Out of 5): 6\n",
            "Performance Rating must be between 1 and 5.\n",
            "Enter Performance Rating (Out of 5): 8\n",
            "Performance Rating must be between 1 and 5.\n",
            "Enter Performance Rating (Out of 5): 2\n"
          ]
        }
      ]
    },
    {
      "cell_type": "markdown",
      "source": [
        "\n",
        "2. JoiningDetail class has a data member DateOfJoining of type Date and a function\n",
        "getDoJ to get the Date of joining of employees."
      ],
      "metadata": {
        "id": "5E1IRMKim8u7"
      }
    },
    {
      "cell_type": "code",
      "source": [
        "# joining date class\n",
        "\n",
        "class JoiningDetail:\n",
        "  def __init__(self,date_of_joining):\n",
        "    self.date_of_joining=date_of_joining\n",
        "\n",
        "  def getDoJ(self):\n",
        "    self.date_of_joining = str(input(\"Enter Date of Joining (DD/MM/YYYY): \"))"
      ],
      "metadata": {
        "id": "gLxXyWtZkyyL"
      },
      "execution_count": null,
      "outputs": []
    },
    {
      "cell_type": "code",
      "source": [
        "joining_detail_instance = JoiningDetail(\"\")  # Provide an initial value for date_of_joining\n",
        "\n",
        "# Call the getDoJ method on the instance\n",
        "joining_detail_instance.getDoJ()"
      ],
      "metadata": {
        "colab": {
          "base_uri": "https://localhost:8080/"
        },
        "id": "pwad07s4lxR-",
        "outputId": "ba533605-dbcd-4779-cb6d-468c050c6214"
      },
      "execution_count": null,
      "outputs": [
        {
          "name": "stdout",
          "output_type": "stream",
          "text": [
            "Enter Date of Joining (DD/MM/YYYY): 12/08/2001\n"
          ]
        }
      ]
    },
    {
      "cell_type": "markdown",
      "source": [
        "3. Information Class uses the marks from Employee class and the DateOfJoining date\n",
        "from the JoiningDetail class to calculate the top 3 Employees based on their Ratings\n",
        "and then Display, using readData, all the details on these employees in Ascending\n",
        "order of their Date Of Joining."
      ],
      "metadata": {
        "id": "fBzc7IsRvkpk"
      }
    },
    {
      "cell_type": "code",
      "source": [
        "# information class\n",
        "\n",
        "class Information(Employee, JoiningDetail):\n",
        "    def __init__(self, emp_id, gender, salary, per_rating, date_of_joining):\n",
        "        Employee.__init__(self, emp_id, gender, salary, per_rating)\n",
        "        JoiningDetail.__init__(self, date_of_joining)\n",
        "\n",
        "\n",
        "    def read_data(self):\n",
        "        self.get_details()\n",
        "        self.getDoJ()\n",
        "\n",
        "    def display_top_employees(employee_list):\n",
        "        pass\n",
        "\n",
        "\n",
        "if __name__ == \"__main__\":\n",
        "    employee_list = []\n",
        "    num_employees = int(input(\"Enter number of employees: \"))\n",
        "\n",
        "\n",
        "if num_employees < 10:\n",
        "    exit\n",
        "\n",
        "    for _ in range(num_employees):\n",
        "        emp_id = int(input(\"Enter Employee ID: \"))\n",
        "        gender = str(input(\"Enter Gender: \"))\n",
        "        salary = float(input(\"Enter Salary: \"))\n",
        "        per_rating = int(input(\"Enter Performance Rating: \"))\n",
        "        date_of_joining = input(\"Enter Date of Joining (DD/MM/YYYY): \")\n",
        "\n",
        "\n",
        "        emp_info = Information(emp_id, gender, salary, per_rating, date_of_joining)\n",
        "        employee_list.append(emp_info)\n",
        "\n",
        "    Information.display_top_employees(employee_list)"
      ],
      "metadata": {
        "colab": {
          "base_uri": "https://localhost:8080/"
        },
        "id": "ddggM-uAmhxC",
        "outputId": "75f27b5f-4985-418a-f8f2-050979ff78fc"
      },
      "execution_count": null,
      "outputs": [
        {
          "name": "stdout",
          "output_type": "stream",
          "text": [
            "Enter number of employees: 2\n",
            "Enter Employee ID: 12\n",
            "Enter Gender: nale\n",
            "Enter Salary: 2000\n",
            "Enter Performance Rating: 5\n",
            "Enter Date of Joining (DD/MM/YYYY): 12/08/2000\n",
            "Enter Employee ID: 3\n",
            "Enter Gender: male\n",
            "Enter Salary: 20000\n",
            "Enter Performance Rating: 4\n",
            "Enter Date of Joining (DD/MM/YYYY): 12/09/2001\n"
          ]
        }
      ]
    },
    {
      "cell_type": "markdown",
      "source": [
        "Q.2 Write a Python program to demonstrate Polymorphism.\n",
        "1. Class Vehicle with a parameterized function Fare, that takes input value as fare and\n",
        "returns it to calling Objects.\n",
        "2. Create five separate variables Bus, Car, Train, Truck and Ship that call the Fare\n",
        "function.\n",
        "3. Use a third variable TotalFare to store the sum of fare for each Vehicle Type.\n",
        "4. Print the TotalFare."
      ],
      "metadata": {
        "id": "etKcQqvvzFck"
      }
    },
    {
      "cell_type": "code",
      "source": [
        "class Vehicle:\n",
        "    def Fare(self, fare):\n",
        "        return fare\n",
        "\n",
        "# Creating instances for different vehicle types\n",
        "bus = Vehicle()\n",
        "car = Vehicle()\n",
        "train = Vehicle()\n",
        "truck = Vehicle()\n",
        "ship = Vehicle()\n",
        "\n",
        "# Setting fares for each vehicle\n",
        "bus_fare = bus.Fare(50)\n",
        "car_fare = car.Fare(30)\n",
        "train_fare = train.Fare(70)\n",
        "truck_fare = truck.Fare(40)\n",
        "ship_fare = ship.Fare(100)\n",
        "\n",
        "# Calculating total fare\n",
        "TotalFare = bus_fare + car_fare + train_fare + truck_fare + ship_fare\n",
        "\n",
        "# Printing the total fare using f-string\n",
        "print(f'Total Fare for all vehicles: {TotalFare}')\n"
      ],
      "metadata": {
        "colab": {
          "base_uri": "https://localhost:8080/"
        },
        "id": "6_WDfVqwzGc0",
        "outputId": "97222346-f83e-42cb-b4f7-7fd66a0cc8b2"
      },
      "execution_count": null,
      "outputs": [
        {
          "output_type": "stream",
          "name": "stdout",
          "text": [
            "Total Fare for all vehicles: 290\n"
          ]
        }
      ]
    },
    {
      "cell_type": "markdown",
      "source": [
        "Q3. Consider an ongoing test cricket series. Following are the names of the players and their\n",
        "scores in the test1 and 2.\n",
        "Test Match 1 :\n",
        "Dhoni : 56 , Balaji : 94\n",
        "Test Match 2 :\n",
        "Balaji : 80 , Dravid : 105\n",
        "Calculate the highest number of runs scored by an individual cricketer in both of the matches.\n",
        "Create a python function Max_Score (M) that reads a dictionary M that recognizes the player\n",
        "with the highest total score. This function will return ( Top player , Total Score ) . You can\n",
        "consider the Top player as String who is the highest scorer and Top score as Integer .\n",
        "Input : Max_Score({‘test1’:{‘Dhoni’:56, ‘Balaji : 85}, ‘test2’:{‘Dhoni’ 87, ‘Balaji’’:200}})\n",
        "Output : (‘Balaji ‘ , 200)"
      ],
      "metadata": {
        "id": "AB6bw-bYqQ2R"
      }
    },
    {
      "cell_type": "code",
      "source": [
        "def Max_Score(M):\n",
        "    # Initialize a dictionary to keep track of total scores\n",
        "    total_scores = {}\n",
        "\n",
        "    # Iterate through the matches and their scores\n",
        "    for match in M.values():\n",
        "        for player, score in match.items():\n",
        "            if player in total_scores:\n",
        "                total_scores[player] += score\n",
        "            else:\n",
        "                total_scores[player] = score\n",
        "\n",
        "    # Find the player with the highest score\n",
        "    top_player = max(total_scores, key=total_scores.get)\n",
        "    top_score = total_scores[top_player]\n",
        "\n",
        "    return (top_player, top_score)\n",
        "\n",
        "# Example usage\n",
        "result = Max_Score({\n",
        "    'test1': {'Dhoni': 56, 'Balaji': 94},\n",
        "    'test2': {'Balaji': 80, 'Dravid': 105}\n",
        "})\n",
        "\n",
        "print(result)\n"
      ],
      "metadata": {
        "colab": {
          "base_uri": "https://localhost:8080/"
        },
        "id": "zGLrPE3-pcCz",
        "outputId": "c142bdd4-af86-4d56-8443-91dfa1e113bf"
      },
      "execution_count": 1,
      "outputs": [
        {
          "output_type": "stream",
          "name": "stdout",
          "text": [
            "('Balaji', 174)\n"
          ]
        }
      ]
    },
    {
      "cell_type": "markdown",
      "source": [
        "Q4: Create a simple Card game in which there are 8 cards which are randomly chosen from a\n",
        "deck. The first card is shown face up. The game asks the player to predict whether the next card\n",
        "in the selection will have a higher or lower value than the currently showing card.\n",
        "For example, say the card that’s shown is a 3. The player chooses “higher,” and the next card is\n",
        "shown. If that card has a higher value, the player is correct. In this example, if the player had\n",
        "chosen “lower,” they would have been incorrect. If the player guesses correctly, they get 20\n",
        "points. If they choose incorrectly, they lose 15 points. If the next card to be turned over has the\n",
        "same value as the previous card, the player is incorrect"
      ],
      "metadata": {
        "id": "10g9q6VNqPii"
      }
    },
    {
      "cell_type": "code",
      "source": [
        "import random\n",
        "\n",
        "# Function to create a standard deck of cards\n",
        "def create_deck():\n",
        "    values = list(range(1, 14))  # Values from 1 (Ace) to 13 (King)\n",
        "    deck = values * 4  # Four of each value\n",
        "    random.shuffle(deck)  # Shuffle the deck\n",
        "    return deck\n",
        "\n",
        "def play_game():\n",
        "    deck = create_deck()  # Create and shuffle the deck\n",
        "    current_card = deck.pop()  # Draw the first card\n",
        "    score = 0  # Initialize the player's score\n",
        "\n",
        "    print(f\"The first card is: {current_card}\")\n",
        "\n",
        "    for i in range(7):  # Loop for 7 more cards\n",
        "        guess = input(\"Will the next card be higher or lower? (h/l): \").strip().lower()\n",
        "\n",
        "        # Draw the next card\n",
        "        next_card = deck.pop()\n",
        "        print(f\"The next card is: {next_card}\")\n",
        "\n",
        "        # Determine if the guess was correct\n",
        "        if (guess == 'h' and next_card > current_card) or (guess == 'l' and next_card < current_card):\n",
        "            score += 20\n",
        "            print(\"Correct guess! You gain 20 points.\")\n",
        "        else:\n",
        "            score -= 15\n",
        "            print(\"Incorrect guess! You lose 15 points.\")\n",
        "\n",
        "        # Update the current card\n",
        "        current_card = next_card\n",
        "        print(f\"Current score: {score}\")\n",
        "\n",
        "    print(f\"Game over! Your final score is: {score}\")\n",
        "\n",
        "# Run the game\n",
        "if __name__ == \"__main__\":\n",
        "    play_game()\n"
      ],
      "metadata": {
        "colab": {
          "base_uri": "https://localhost:8080/",
          "height": 652
        },
        "id": "kFOjR1ETqMpC",
        "outputId": "2a7b1b68-f1d9-49ca-e311-e88f95fa337f"
      },
      "execution_count": 3,
      "outputs": [
        {
          "output_type": "stream",
          "name": "stdout",
          "text": [
            "The first card is: 13\n",
            "Will the next card be higher or lower? (h/l): h\n",
            "The next card is: 12\n",
            "Incorrect guess! You lose 15 points.\n",
            "Current score: -15\n",
            "Will the next card be higher or lower? (h/l): h\n",
            "The next card is: 9\n",
            "Incorrect guess! You lose 15 points.\n",
            "Current score: -30\n",
            "Will the next card be higher or lower? (h/l): l\n",
            "The next card is: 3\n",
            "Correct guess! You gain 20 points.\n",
            "Current score: -10\n",
            "Will the next card be higher or lower? (h/l): h\n",
            "The next card is: 3\n",
            "Incorrect guess! You lose 15 points.\n",
            "Current score: -25\n"
          ]
        },
        {
          "output_type": "error",
          "ename": "KeyboardInterrupt",
          "evalue": "Interrupted by user",
          "traceback": [
            "\u001b[0;31m---------------------------------------------------------------------------\u001b[0m",
            "\u001b[0;31mKeyboardInterrupt\u001b[0m                         Traceback (most recent call last)",
            "\u001b[0;32m<ipython-input-3-190ad627c049>\u001b[0m in \u001b[0;36m<cell line: 39>\u001b[0;34m()\u001b[0m\n\u001b[1;32m     38\u001b[0m \u001b[0;31m# Run the game\u001b[0m\u001b[0;34m\u001b[0m\u001b[0;34m\u001b[0m\u001b[0m\n\u001b[1;32m     39\u001b[0m \u001b[0;32mif\u001b[0m \u001b[0m__name__\u001b[0m \u001b[0;34m==\u001b[0m \u001b[0;34m\"__main__\"\u001b[0m\u001b[0;34m:\u001b[0m\u001b[0;34m\u001b[0m\u001b[0;34m\u001b[0m\u001b[0m\n\u001b[0;32m---> 40\u001b[0;31m     \u001b[0mplay_game\u001b[0m\u001b[0;34m(\u001b[0m\u001b[0;34m)\u001b[0m\u001b[0;34m\u001b[0m\u001b[0;34m\u001b[0m\u001b[0m\n\u001b[0m",
            "\u001b[0;32m<ipython-input-3-190ad627c049>\u001b[0m in \u001b[0;36mplay_game\u001b[0;34m()\u001b[0m\n\u001b[1;32m     16\u001b[0m \u001b[0;34m\u001b[0m\u001b[0m\n\u001b[1;32m     17\u001b[0m     \u001b[0;32mfor\u001b[0m \u001b[0mi\u001b[0m \u001b[0;32min\u001b[0m \u001b[0mrange\u001b[0m\u001b[0;34m(\u001b[0m\u001b[0;36m7\u001b[0m\u001b[0;34m)\u001b[0m\u001b[0;34m:\u001b[0m  \u001b[0;31m# Loop for 7 more cards\u001b[0m\u001b[0;34m\u001b[0m\u001b[0;34m\u001b[0m\u001b[0m\n\u001b[0;32m---> 18\u001b[0;31m         \u001b[0mguess\u001b[0m \u001b[0;34m=\u001b[0m \u001b[0minput\u001b[0m\u001b[0;34m(\u001b[0m\u001b[0;34m\"Will the next card be higher or lower? (h/l): \"\u001b[0m\u001b[0;34m)\u001b[0m\u001b[0;34m.\u001b[0m\u001b[0mstrip\u001b[0m\u001b[0;34m(\u001b[0m\u001b[0;34m)\u001b[0m\u001b[0;34m.\u001b[0m\u001b[0mlower\u001b[0m\u001b[0;34m(\u001b[0m\u001b[0;34m)\u001b[0m\u001b[0;34m\u001b[0m\u001b[0;34m\u001b[0m\u001b[0m\n\u001b[0m\u001b[1;32m     19\u001b[0m \u001b[0;34m\u001b[0m\u001b[0m\n\u001b[1;32m     20\u001b[0m         \u001b[0;31m# Draw the next card\u001b[0m\u001b[0;34m\u001b[0m\u001b[0;34m\u001b[0m\u001b[0m\n",
            "\u001b[0;32m/usr/local/lib/python3.10/dist-packages/ipykernel/kernelbase.py\u001b[0m in \u001b[0;36mraw_input\u001b[0;34m(self, prompt)\u001b[0m\n\u001b[1;32m    849\u001b[0m                 \u001b[0;34m\"raw_input was called, but this frontend does not support input requests.\"\u001b[0m\u001b[0;34m\u001b[0m\u001b[0;34m\u001b[0m\u001b[0m\n\u001b[1;32m    850\u001b[0m             )\n\u001b[0;32m--> 851\u001b[0;31m         return self._input_request(str(prompt),\n\u001b[0m\u001b[1;32m    852\u001b[0m             \u001b[0mself\u001b[0m\u001b[0;34m.\u001b[0m\u001b[0m_parent_ident\u001b[0m\u001b[0;34m,\u001b[0m\u001b[0;34m\u001b[0m\u001b[0;34m\u001b[0m\u001b[0m\n\u001b[1;32m    853\u001b[0m             \u001b[0mself\u001b[0m\u001b[0;34m.\u001b[0m\u001b[0m_parent_header\u001b[0m\u001b[0;34m,\u001b[0m\u001b[0;34m\u001b[0m\u001b[0;34m\u001b[0m\u001b[0m\n",
            "\u001b[0;32m/usr/local/lib/python3.10/dist-packages/ipykernel/kernelbase.py\u001b[0m in \u001b[0;36m_input_request\u001b[0;34m(self, prompt, ident, parent, password)\u001b[0m\n\u001b[1;32m    893\u001b[0m             \u001b[0;32mexcept\u001b[0m \u001b[0mKeyboardInterrupt\u001b[0m\u001b[0;34m:\u001b[0m\u001b[0;34m\u001b[0m\u001b[0;34m\u001b[0m\u001b[0m\n\u001b[1;32m    894\u001b[0m                 \u001b[0;31m# re-raise KeyboardInterrupt, to truncate traceback\u001b[0m\u001b[0;34m\u001b[0m\u001b[0;34m\u001b[0m\u001b[0m\n\u001b[0;32m--> 895\u001b[0;31m                 \u001b[0;32mraise\u001b[0m \u001b[0mKeyboardInterrupt\u001b[0m\u001b[0;34m(\u001b[0m\u001b[0;34m\"Interrupted by user\"\u001b[0m\u001b[0;34m)\u001b[0m \u001b[0;32mfrom\u001b[0m \u001b[0;32mNone\u001b[0m\u001b[0;34m\u001b[0m\u001b[0;34m\u001b[0m\u001b[0m\n\u001b[0m\u001b[1;32m    896\u001b[0m             \u001b[0;32mexcept\u001b[0m \u001b[0mException\u001b[0m \u001b[0;32mas\u001b[0m \u001b[0me\u001b[0m\u001b[0;34m:\u001b[0m\u001b[0;34m\u001b[0m\u001b[0;34m\u001b[0m\u001b[0m\n\u001b[1;32m    897\u001b[0m                 \u001b[0mself\u001b[0m\u001b[0;34m.\u001b[0m\u001b[0mlog\u001b[0m\u001b[0;34m.\u001b[0m\u001b[0mwarning\u001b[0m\u001b[0;34m(\u001b[0m\u001b[0;34m\"Invalid Message:\"\u001b[0m\u001b[0;34m,\u001b[0m \u001b[0mexc_info\u001b[0m\u001b[0;34m=\u001b[0m\u001b[0;32mTrue\u001b[0m\u001b[0;34m)\u001b[0m\u001b[0;34m\u001b[0m\u001b[0;34m\u001b[0m\u001b[0m\n",
            "\u001b[0;31mKeyboardInterrupt\u001b[0m: Interrupted by user"
          ]
        }
      ]
    },
    {
      "cell_type": "markdown",
      "source": [
        "Q5. Create an empty dictionary called Car_0 . Then fill the dictionary with Keys : color , speed\n",
        ", X_position and Y_position.\n",
        "car_0 = {'x_position': 10, 'y_position': 72, 'speed': 'medium'} .\n",
        "a) If the speed is slow the coordinates of the X_pos get incremented by 2.\n",
        "b) If the speed is Medium the coordinates of the X_pos gets incremented by 9\n",
        "c) Now if the speed is Fast the coordinates of the X_pos gets incremented by 22.\n",
        "Print the modified dictionary."
      ],
      "metadata": {
        "id": "mpLb4wvqqacw"
      }
    },
    {
      "cell_type": "code",
      "source": [
        "# Create an empty dictionary\n",
        "Car_0 = {}\n",
        "\n",
        "# Fill the dictionary with specified keys and initial values\n",
        "Car_0 = {\n",
        "    'x_position': 10,\n",
        "    'y_position': 72,\n",
        "    'speed': 'medium'\n",
        "}\n",
        "\n",
        "# Check the speed and modify x_position accordingly\n",
        "if Car_0['speed'] == 'slow':\n",
        "    Car_0['x_position'] += 2\n",
        "elif Car_0['speed'] == 'medium':\n",
        "    Car_0['x_position'] += 9\n",
        "elif Car_0['speed'] == 'fast':\n",
        "    Car_0['x_position'] += 22\n",
        "\n",
        "# Print the modified dictionary\n",
        "print(Car_0)\n"
      ],
      "metadata": {
        "colab": {
          "base_uri": "https://localhost:8080/"
        },
        "id": "wJ2shYW2qefY",
        "outputId": "10d2301d-194f-4ff6-f15b-ab7523570f78"
      },
      "execution_count": 2,
      "outputs": [
        {
          "output_type": "stream",
          "name": "stdout",
          "text": [
            "{'x_position': 19, 'y_position': 72, 'speed': 'medium'}\n"
          ]
        }
      ]
    },
    {
      "cell_type": "markdown",
      "source": [
        "Q6. Show a basic implementation of abstraction in python using the abstract classes.\n",
        "1. Create an abstract class in python.\n",
        "2. Implement abstraction with the other classes and base class as abstract class.\n"
      ],
      "metadata": {
        "id": "rIIRt9YkqtJy"
      }
    },
    {
      "cell_type": "code",
      "source": [
        "from abc import ABC, abstractmethod\n",
        "\n",
        "# Create an abstract class\n",
        "class Shape(ABC):\n",
        "    @abstractmethod\n",
        "    def area(self):\n",
        "        pass\n",
        "\n",
        "    @abstractmethod\n",
        "    def perimeter(self):\n",
        "        pass\n",
        "\n",
        "# Implement abstraction with derived classes\n",
        "class Rectangle(Shape):\n",
        "    def __init__(self, width, height):\n",
        "        self.width = width\n",
        "        self.height = height\n",
        "\n",
        "    def area(self):\n",
        "        return self.width * self.height\n",
        "\n",
        "    def perimeter(self):\n",
        "        return 2 * (self.width + self.height)\n",
        "\n",
        "class Circle(Shape):\n",
        "    def __init__(self, radius):\n",
        "        self.radius = radius\n",
        "\n",
        "    def area(self):\n",
        "        return 3.14 * self.radius ** 2  # Using π ≈ 3.14 for simplicity\n",
        "\n",
        "    def perimeter(self):\n",
        "        return 2 * 3.14 * self.radius\n",
        "\n",
        "shapes = [\n",
        "    Rectangle(5, 10),\n",
        "    Circle(7)\n",
        "]\n",
        "\n",
        "for shape in shapes:\n",
        "    print(f\"Area: {shape.area()}\")\n",
        "    print(f\"Perimeter: {shape.perimeter()}\")\n"
      ],
      "metadata": {
        "colab": {
          "base_uri": "https://localhost:8080/"
        },
        "id": "riU-VlETquAZ",
        "outputId": "07d02982-26a3-47d1-ea88-97480e3dfb12"
      },
      "execution_count": 4,
      "outputs": [
        {
          "output_type": "stream",
          "name": "stdout",
          "text": [
            "Area: 50\n",
            "Perimeter: 30\n",
            "Area: 153.86\n",
            "Perimeter: 43.96\n"
          ]
        }
      ]
    },
    {
      "cell_type": "markdown",
      "source": [
        "Q7. Create a program in python to demonstrate Polymorphism.\n",
        "1. Make use of private and protected members using python name mangling techniques."
      ],
      "metadata": {
        "id": "rY4EWew1q_Eq"
      }
    },
    {
      "cell_type": "code",
      "source": [
        "class Animal:\n",
        "    def __init__(self, name):\n",
        "        self.__name = name  # Private member\n",
        "\n",
        "    def sound(self):\n",
        "        raise NotImplementedError(\"Subclass must implement abstract method\")\n",
        "\n",
        "    def get_name(self):\n",
        "        return self.__name  # Accessing private member\n",
        "\n",
        "class Dog(Animal):\n",
        "    def __init__(self, name):\n",
        "        super().__init__(name)\n",
        "\n",
        "    def sound(self):\n",
        "        return \"Woof!\"\n",
        "\n",
        "class Cat(Animal):\n",
        "    def __init__(self, name):\n",
        "        super().__init__(name)\n",
        "\n",
        "    def sound(self):\n",
        "        return \"Meow!\"\n",
        "\n",
        "class Zoo:\n",
        "    def __init__(self):\n",
        "        self._animals = []  # Protected member\n",
        "\n",
        "    def add_animal(self, animal):\n",
        "        self._animals.append(animal)\n",
        "\n",
        "    def make_sounds(self):\n",
        "        for animal in self._animals:\n",
        "            print(f\"{animal.get_name()} says: {animal.sound()}\")\n",
        "\n",
        "\n",
        "zoo = Zoo()\n",
        "dog = Dog(\"Buddy\")\n",
        "cat = Cat(\"Whiskers\")\n",
        "\n",
        "zoo.add_animal(dog)\n",
        "zoo.add_animal(cat)\n",
        "\n",
        "zoo.make_sounds()\n"
      ],
      "metadata": {
        "colab": {
          "base_uri": "https://localhost:8080/"
        },
        "id": "JrSzj6cyrAAJ",
        "outputId": "b4c0419d-c051-4e63-8cf5-f3f4040c9202"
      },
      "execution_count": 5,
      "outputs": [
        {
          "output_type": "stream",
          "name": "stdout",
          "text": [
            "Buddy says: Woof!\n",
            "Whiskers says: Meow!\n"
          ]
        }
      ]
    },
    {
      "cell_type": "markdown",
      "source": [
        "Q8. Given a list of 50 natural numbers from 1-50. Create a function that will take every element\n",
        "from the list and return the square of each element. Use the python map and filter methods to\n",
        "implement the function on the given list."
      ],
      "metadata": {
        "id": "YP5ArW5ArSNi"
      }
    },
    {
      "cell_type": "code",
      "source": [
        "# Create a list of natural numbers from 1 to 50\n",
        "numbers = list(range(1, 51))\n",
        "\n",
        "# Function to calculate the square of a number\n",
        "def square(x):\n",
        "    return x ** 2\n",
        "\n",
        "# Using map to apply the square function to each element in the list\n",
        "squared_numbers = list(map(square, numbers))\n",
        "\n",
        "# Optionally, you can filter if you want to only keep squares of even numbers\n",
        "# Here, we'll filter out squares of even numbers as an example (optional)\n",
        "filtered_squared_numbers = list(filter(lambda x: x % 2 == 0, squared_numbers))\n",
        "\n",
        "# Output the results\n",
        "print(\"Squared Numbers:\", squared_numbers)\n",
        "print(\"Filtered Squared Numbers (even squares):\", filtered_squared_numbers)\n"
      ],
      "metadata": {
        "id": "AeUKPCvwrQbJ"
      },
      "execution_count": null,
      "outputs": []
    },
    {
      "cell_type": "markdown",
      "source": [
        "Q9. Create a class, Triangle. Its init() method should take self, angle1, angle2, and angle3 as\n",
        "arguments."
      ],
      "metadata": {
        "id": "Pk6Vq26CrTLR"
      }
    },
    {
      "cell_type": "code",
      "source": [
        "class Triangle:\n",
        "    def __init__(self, angle1, angle2, angle3):\n",
        "        self.angle1 = angle1\n",
        "        self.angle2 = angle2\n",
        "        self.angle3 = angle3\n",
        "\n",
        "        if not self.is_valid_triangle():\n",
        "            raise ValueError(\"The angles do not form a valid triangle.\")\n",
        "\n",
        "    def is_valid_triangle(self):\n",
        "        # Check if the sum of angles is 180 degrees\n",
        "        return (self.angle1 + self.angle2 + self.angle3) == 180\n",
        "\n",
        "    def display_angles(self):\n",
        "        return f\"Angles of the triangle are: {self.angle1}, {self.angle2}, {self.angle3}\"\n",
        "\n",
        "\n",
        "try:\n",
        "    triangle1 = Triangle(60, 60, 60)\n",
        "    print(triangle1.display_angles())\n",
        "except ValueError as e:\n",
        "    print(e)\n",
        "\n",
        "try:\n",
        "    triangle2 = Triangle(90, 45, 50)\n",
        "    print(triangle2.display_angles())\n",
        "except ValueError as e:\n",
        "    print(e)\n",
        "\n",
        "try:\n",
        "    triangle3 = Triangle(30, 30, 50)  # This will raise an error\n",
        "    print(triangle3.display_angles())\n",
        "except ValueError as e:\n",
        "    print(e)\n"
      ],
      "metadata": {
        "colab": {
          "base_uri": "https://localhost:8080/"
        },
        "id": "n26EZauIrTlR",
        "outputId": "1a1b5a30-0b80-45a4-83a2-33b38c53a38b"
      },
      "execution_count": 6,
      "outputs": [
        {
          "output_type": "stream",
          "name": "stdout",
          "text": [
            "Angles of the triangle are: 60, 60, 60\n",
            "The angles do not form a valid triangle.\n",
            "The angles do not form a valid triangle.\n"
          ]
        }
      ]
    },
    {
      "cell_type": "markdown",
      "source": [
        "Q10. Create a class variable named number_of_sides and set it equal to 3."
      ],
      "metadata": {
        "id": "8GEahwM5rekh"
      }
    },
    {
      "cell_type": "code",
      "source": [
        "class Triangle:\n",
        "    # Class variable\n",
        "    number_of_sides = 3\n",
        "\n",
        "    def __init__(self, angle1, angle2, angle3):\n",
        "        self.angle1 = angle1\n",
        "        self.angle2 = angle2\n",
        "        self.angle3 = angle3\n",
        "\n",
        "        if not self.is_valid_triangle():\n",
        "            raise ValueError(\"The angles do not form a valid triangle.\")\n",
        "\n",
        "    def is_valid_triangle(self):\n",
        "        # Check if the sum of angles is 180 degrees\n",
        "        return (self.angle1 + self.angle2 + self.angle3) == 180\n",
        "\n",
        "    def display_angles(self):\n",
        "        return f\"Angles of the triangle are: {self.angle1}, {self.angle2}, {self.angle3}\"\n",
        "\n",
        "    @classmethod\n",
        "    def get_number_of_sides(cls):\n",
        "        return cls.number_of_sides\n",
        "\n",
        "\n",
        "try:\n",
        "    triangle1 = Triangle(60, 60, 60)\n",
        "    print(triangle1.display_angles())\n",
        "    print(f\"Number of sides: {Triangle.get_number_of_sides()}\")\n",
        "except ValueError as e:\n",
        "    print(e)\n",
        "\n",
        "try:\n",
        "    triangle2 = Triangle(90, 45, 45)\n",
        "    print(triangle2.display_angles())\n",
        "    print(f\"Number of sides: {Triangle.get_number_of_sides()}\")\n",
        "except ValueError as e:\n",
        "    print(e)\n",
        "\n",
        "try:\n",
        "    triangle3 = Triangle(30, 30, 30)  # This will raise an error\n",
        "    print(triangle3.display_angles())\n",
        "except ValueError as e:\n",
        "    print(e)\n"
      ],
      "metadata": {
        "colab": {
          "base_uri": "https://localhost:8080/"
        },
        "id": "lUNq8JnQrg_x",
        "outputId": "cfa876d2-d570-4b76-a9f3-4e081a11d3c9"
      },
      "execution_count": 8,
      "outputs": [
        {
          "output_type": "stream",
          "name": "stdout",
          "text": [
            "Angles of the triangle are: 60, 60, 60\n",
            "Number of sides: 3\n",
            "Angles of the triangle are: 90, 45, 45\n",
            "Number of sides: 3\n",
            "The angles do not form a valid triangle.\n"
          ]
        }
      ]
    },
    {
      "cell_type": "markdown",
      "source": [
        "Q11. Create a method named check_angles. The sum of a triangle's three angles should return\n",
        "True if the sum is equal to 180, and False otherwise. The method should print whether the\n",
        "angles belong to a triangle or not.\n",
        "11.1 Write methods to verify if the triangle is an acute triangle or obtuse triangle.\n",
        "11.2 Create an instance of the triangle class and call all the defined methods.\n",
        "11.3 Create three child classes of triangle class - isosceles_triangle, right_triangle and\n",
        "equilateral_triangle.\n",
        "11.4 Define methods which check for their properties."
      ],
      "metadata": {
        "id": "OGIt_d2Ur5Yo"
      }
    },
    {
      "cell_type": "code",
      "source": [
        "class Triangle:\n",
        "    # Class variable\n",
        "    number_of_sides = 3\n",
        "\n",
        "    def __init__(self, angle1, angle2, angle3):\n",
        "        self.angle1 = angle1\n",
        "        self.angle2 = angle2\n",
        "        self.angle3 = angle3\n",
        "\n",
        "        if not self.is_valid_triangle():\n",
        "            raise ValueError(\"The angles do not form a valid triangle.\")\n",
        "\n",
        "    def is_valid_triangle(self):\n",
        "        return (self.angle1 + self.angle2 + self.angle3) == 180\n",
        "\n",
        "    def check_angles(self):\n",
        "        if self.is_valid_triangle():\n",
        "            print(f\"The angles {self.angle1}, {self.angle2}, and {self.angle3} form a valid triangle.\")\n",
        "            return True\n",
        "        else:\n",
        "            print(f\"The angles {self.angle1}, {self.angle2}, and {self.angle3} do not form a valid triangle.\")\n",
        "            return False\n",
        "\n",
        "    def triangle_type(self):\n",
        "        if all(angle < 90 for angle in (self.angle1, self.angle2, self.angle3)):\n",
        "            return \"Acute Triangle\"\n",
        "        elif any(angle > 90 for angle in (self.angle1, self.angle2, self.angle3)):\n",
        "            return \"Obtuse Triangle\"\n",
        "        else:\n",
        "            return \"Right Triangle\"\n",
        "\n",
        "    def display_angles(self):\n",
        "        return f\"Angles of the triangle are: {self.angle1}, {self.angle2}, {self.angle3}\"\n",
        "\n",
        "    @classmethod\n",
        "    def get_number_of_sides(cls):\n",
        "        return cls.number_of_sides\n",
        "\n",
        "\n",
        "# Child classes\n",
        "class IsoscelesTriangle(Triangle):\n",
        "    def __init__(self, angle1, angle2, angle3):\n",
        "        super().__init__(angle1, angle2, angle3)\n",
        "\n",
        "    def is_isosceles(self):\n",
        "        return self.angle1 == self.angle2 or self.angle1 == self.angle3 or self.angle2 == self.angle3\n",
        "\n",
        "\n",
        "class RightTriangle(Triangle):\n",
        "    def __init__(self, angle1, angle2, angle3):\n",
        "        super().__init__(angle1, angle2, angle3)\n",
        "\n",
        "    def is_right_triangle(self):\n",
        "        return 90 in (self.angle1, self.angle2, self.angle3)\n",
        "\n",
        "\n",
        "class EquilateralTriangle(Triangle):\n",
        "    def __init__(self, angle1, angle2, angle3):\n",
        "        super().__init__(angle1, angle2, angle3)\n",
        "\n",
        "    def is_equilateral(self):\n",
        "        return self.angle1 == self.angle2 == self.angle3 == 60\n",
        "\n",
        "\n",
        "\n",
        "try:\n",
        "    triangle1 = Triangle(60, 60, 60)\n",
        "    print(triangle1.display_angles())\n",
        "    triangle1.check_angles()\n",
        "    print(f\"Triangle type: {triangle1.triangle_type()}\")\n",
        "\n",
        "    triangle2 = IsoscelesTriangle(70, 70, 40)\n",
        "    print(triangle2.display_angles())\n",
        "    triangle2.check_angles()\n",
        "    print(f\"Isosceles: {triangle2.is_isosceles()}\")\n",
        "\n",
        "    triangle3 = RightTriangle(90, 45, 45)\n",
        "    print(triangle3.display_angles())\n",
        "    triangle3.check_angles()\n",
        "    print(f\"Right Triangle: {triangle3.is_right_triangle()}\")\n",
        "\n",
        "    triangle4 = EquilateralTriangle(60, 60, 60)\n",
        "    print(triangle4.display_angles())\n",
        "    triangle4.check_angles()\n",
        "    print(f\"Equilateral: {triangle4.is_equilateral()}\")\n",
        "\n",
        "except ValueError as e:\n",
        "    print(e)\n"
      ],
      "metadata": {
        "colab": {
          "base_uri": "https://localhost:8080/"
        },
        "id": "vWPn9CNEsJsI",
        "outputId": "3e8ede9a-c296-40a7-f63e-f85fab1dcf68"
      },
      "execution_count": 10,
      "outputs": [
        {
          "output_type": "stream",
          "name": "stdout",
          "text": [
            "Angles of the triangle are: 60, 60, 60\n",
            "The angles 60, 60, and 60 form a valid triangle.\n",
            "Triangle type: Acute Triangle\n",
            "Angles of the triangle are: 70, 70, 40\n",
            "The angles 70, 70, and 40 form a valid triangle.\n",
            "Isosceles: True\n",
            "Angles of the triangle are: 90, 45, 45\n",
            "The angles 90, 45, and 45 form a valid triangle.\n",
            "Right Triangle: True\n",
            "Angles of the triangle are: 60, 60, 60\n",
            "The angles 60, 60, and 60 form a valid triangle.\n",
            "Equilateral: True\n"
          ]
        }
      ]
    },
    {
      "cell_type": "markdown",
      "source": [
        "Q12. Create a class isosceles_right_triangle which inherits from isosceles_triangle and\n",
        "right_triangle.\n",
        "12.1 Define methods which check for their properties."
      ],
      "metadata": {
        "id": "Fp5X8jN9sQix"
      }
    },
    {
      "cell_type": "code",
      "source": [
        "class Triangle:\n",
        "    # Class variable\n",
        "    number_of_sides = 3\n",
        "\n",
        "    def __init__(self, angle1, angle2, angle3):\n",
        "        self.angle1 = angle1\n",
        "        self.angle2 = angle2\n",
        "        self.angle3 = angle3\n",
        "\n",
        "        if not self.is_valid_triangle():\n",
        "            raise ValueError(\"The angles do not form a valid triangle.\")\n",
        "\n",
        "    def is_valid_triangle(self):\n",
        "        return (self.angle1 + self.angle2 + self.angle3) == 180\n",
        "\n",
        "    def check_angles(self):\n",
        "        if self.is_valid_triangle():\n",
        "            print(f\"The angles {self.angle1}, {self.angle2}, and {self.angle3} form a valid triangle.\")\n",
        "            return True\n",
        "        else:\n",
        "            print(f\"The angles {self.angle1}, {self.angle2}, and {self.angle3} do not form a valid triangle.\")\n",
        "            return False\n",
        "\n",
        "    def triangle_type(self):\n",
        "        if all(angle < 90 for angle in (self.angle1, self.angle2, self.angle3)):\n",
        "            return \"Acute Triangle\"\n",
        "        elif any(angle > 90 for angle in (self.angle1, self.angle2, self.angle3)):\n",
        "            return \"Obtuse Triangle\"\n",
        "        else:\n",
        "            return \"Right Triangle\"\n",
        "\n",
        "    def display_angles(self):\n",
        "        return f\"Angles of the triangle are: {self.angle1}, {self.angle2}, {self.angle3}\"\n",
        "\n",
        "    @classmethod\n",
        "    def get_number_of_sides(cls):\n",
        "        return cls.number_of_sides\n",
        "\n",
        "\n",
        "class IsoscelesTriangle(Triangle):\n",
        "    def __init__(self, angle1, angle2, angle3):\n",
        "        super().__init__(angle1, angle2, angle3)\n",
        "\n",
        "    def is_isosceles(self):\n",
        "        return self.angle1 == self.angle2 or self.angle1 == self.angle3 or self.angle2 == self.angle3\n",
        "\n",
        "\n",
        "class RightTriangle(Triangle):\n",
        "    def __init__(self, angle1, angle2, angle3):\n",
        "        super().__init__(angle1, angle2, angle3)\n",
        "\n",
        "    def is_right_triangle(self):\n",
        "        return 90 in (self.angle1, self.angle2, self.angle3)\n",
        "\n",
        "\n",
        "class IsoscelesRightTriangle(IsoscelesTriangle, RightTriangle):\n",
        "    def __init__(self, angle1, angle2, angle3):\n",
        "        super().__init__(angle1, angle2, angle3)\n",
        "\n",
        "    def is_isosceles_right_triangle(self):\n",
        "        # Check for 90 degrees and the other two angles being equal\n",
        "        return self.is_right_triangle() and self.is_isosceles() and \\\n",
        "               (self.angle1 == self.angle2 or self.angle2 == self.angle3 or self.angle1 == self.angle3)\n",
        "\n",
        "\n",
        "try:\n",
        "    triangle1 = IsoscelesRightTriangle(90, 45, 45)\n",
        "    print(triangle1.display_angles())\n",
        "    triangle1.check_angles()\n",
        "    print(f\"Isosceles Right Triangle: {triangle1.is_isosceles_right_triangle()}\")\n",
        "\n",
        "    triangle2 = IsoscelesRightTriangle(45, 45, 90)\n",
        "    print(triangle2.display_angles())\n",
        "    triangle2.check_angles()\n",
        "    print(f\"Isosceles Right Triangle: {triangle2.is_isosceles_right_triangle()}\")\n",
        "\n",
        "    triangle3 = IsoscelesRightTriangle(60, 60, 60)  # This will raise an error\n",
        "    print(triangle3.display_angles())\n",
        "    triangle3.check_angles()\n",
        "except ValueError as e:\n",
        "    print(e)\n"
      ],
      "metadata": {
        "colab": {
          "base_uri": "https://localhost:8080/"
        },
        "id": "f6II-09WsRQA",
        "outputId": "149441bc-67fe-402c-bebb-88b63a9d25a0"
      },
      "execution_count": 11,
      "outputs": [
        {
          "output_type": "stream",
          "name": "stdout",
          "text": [
            "Angles of the triangle are: 90, 45, 45\n",
            "The angles 90, 45, and 45 form a valid triangle.\n",
            "Isosceles Right Triangle: True\n",
            "Angles of the triangle are: 45, 45, 90\n",
            "The angles 45, 45, and 90 form a valid triangle.\n",
            "Isosceles Right Triangle: True\n",
            "Angles of the triangle are: 60, 60, 60\n",
            "The angles 60, 60, and 60 form a valid triangle.\n"
          ]
        }
      ]
    }
  ]
}