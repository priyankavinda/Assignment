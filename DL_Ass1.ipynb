{
  "nbformat": 4,
  "nbformat_minor": 0,
  "metadata": {
    "colab": {
      "provenance": []
    },
    "kernelspec": {
      "name": "python3",
      "display_name": "Python 3"
    },
    "language_info": {
      "name": "python"
    }
  },
  "cells": [
    {
      "cell_type": "markdown",
      "source": [
        "1. Which industries commonly use Deep Learning for image recognition applications?\n",
        "a. Healthcare\n",
        "b. Manufacturing\n",
        "c. Retail\n",
        "d. All of the\n",
        "\n",
        "# ANS) d ) all of the above"
      ],
      "metadata": {
        "id": "AwEufRoetmvJ"
      }
    },
    {
      "cell_type": "markdown",
      "source": [
        "2. What distinguishes Deep Learning from traditional Machine Learning?\n",
        "a. Depth of Neural Networks\n",
        "b. Type of Algorithms used\n",
        "c. Machine Learning is an evolution of Deep Learning\n",
        "d. Volume of data processed\n",
        "i. a,d\n",
        "ii. a,b,c,d\n",
        "iii. a,c,d\n",
        "iv. a,b\n",
        "\n",
        "#ANS)  i. a, d"
      ],
      "metadata": {
        "id": "Jn56ldFatzc4"
      }
    },
    {
      "cell_type": "markdown",
      "source": [
        "3. Which metrics are commonly used to evaluate the performance of a classification\n",
        "model?\n",
        "a. Mean squared error\n",
        "b. Root mean squared error\n",
        "c. F1 score\n",
        "d. R-squared\n",
        "\n",
        "\n",
        "# Ans) c. F1 score"
      ],
      "metadata": {
        "id": "_5-tl93bt9Vj"
      }
    },
    {
      "cell_type": "markdown",
      "source": [
        "4.Which of the following are the key components of Deep Learning (DL)?\n",
        "a. Decision Trees\n",
        "b. Neural Networks\n",
        "c. Support Vector Machines\n",
        "d. K-Means Clustering\n",
        "\n",
        "\n",
        "#ANS) b. NN - Neural network"
      ],
      "metadata": {
        "id": "NvQ5MioYuUkv"
      }
    },
    {
      "cell_type": "markdown",
      "source": [
        "5.What are the main challenges in training deep neural networks?\n",
        "a. Lack of labeled data\n",
        "b. Overfitting\n",
        "c. Underfitting\n",
        "d. None of the above\n",
        "\n",
        "#ANS) a. And b."
      ],
      "metadata": {
        "id": "rrwBQyaRub-v"
      }
    },
    {
      "cell_type": "markdown",
      "source": [
        "6. Which technology is a subset of AI and focuses on training models to learn\n",
        "from data?\n",
        "a. Artificial Intelligence\n",
        "b. Machine Learning\n",
        "c. Deep Learning\n",
        "d. Data science\n",
        "\n",
        "#ANS) b. Machine Learning"
      ],
      "metadata": {
        "id": "U0iBaUxCuxcA"
      }
    },
    {
      "cell_type": "markdown",
      "source": [
        "7. In the context of Deep Learning, what is a neural network?\n",
        "a. A network of interconnected computers\n",
        "b. A network of interconnected neurons\n",
        "c. A network of interconnected databases\n",
        "d. A network of interconnected algorithms\n",
        "\n",
        "\n",
        "# ANS) b. A network of interconnected neurons"
      ],
      "metadata": {
        "id": "BNf2NSfgu_xY"
      }
    },
    {
      "cell_type": "markdown",
      "source": [
        "8. What is the role of hyperparameter tuning in the model evaluation phase?\n",
        "a. To adjust the learning rate\n",
        "b. To optimize model parameters for better performance\n",
        "c. To select features\n",
        "d. To preprocess the data\n",
        "\n",
        "\n",
        "# ANS) b. to optimize model parameter for better performance"
      ],
      "metadata": {
        "id": "1LZd2Xb1vL9g"
      }
    },
    {
      "cell_type": "markdown",
      "source": [
        "9. What is the primary goal during the project initiation phase of a Deep Learning\n",
        "project?\n",
        "a. Model training\n",
        "b. Define the problem and scope\n",
        "c. Hyperparameter tuning\n",
        "d. Data collection\n",
        "\n",
        "\n",
        "#ANS) d. Data collection"
      ],
      "metadata": {
        "id": "ygsAJ5w3vcn3"
      }
    },
    {
      "cell_type": "markdown",
      "source": [
        "10. Why is continuous monitoring important in the life cycle of a deployed Deep\n",
        "Learning model?\n",
        "a. To retrain the model from scratch\n",
        "b. To ensure the model adapts to changing data patterns\n",
        "c. To deploy a new model version daily\n",
        "d. To skip the model evaluation phase\n",
        "\n",
        "# ANS) b. To ensure the model adapts to changing data patterns"
      ],
      "metadata": {
        "id": "TaqfIKaMvlbX"
      }
    },
    {
      "cell_type": "code",
      "source": [],
      "metadata": {
        "id": "6f1ML4KOv7dm"
      },
      "execution_count": null,
      "outputs": []
    }
  ]
}